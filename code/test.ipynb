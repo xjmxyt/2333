{
 "cells": [
  {
   "cell_type": "code",
   "execution_count": 1,
   "metadata": {},
   "outputs": [],
   "source": [
    "import numpy as np\n",
    "import pandas as pd\n",
    "import json"
   ]
  },
  {
   "cell_type": "code",
   "execution_count": 2,
   "metadata": {},
   "outputs": [],
   "source": [
    "from evaluations import *\n",
    "from utils import *\n",
    "data='traffic'\n",
    "m2 = np.load('../data/%s/M2.npy'%data)"
   ]
  },
  {
   "cell_type": "code",
   "execution_count": 3,
   "metadata": {},
   "outputs": [
    {
     "data": {
      "text/plain": [
       "13547.346"
      ]
     },
     "execution_count": 3,
     "metadata": {},
     "output_type": "execute_result"
    }
   ],
   "source": [
    "np.max(m2)"
   ]
  },
  {
   "cell_type": "markdown",
   "metadata": {},
   "source": [
    "## movsim data"
   ]
  },
  {
   "cell_type": "code",
   "execution_count": 1,
   "metadata": {},
   "outputs": [],
   "source": [
    "from evaluations import *\n",
    "from utils import *\n",
    "data='geolife'\n",
    "train_data = read_data_from_file('../data/%s/real.data'%data)\n",
    "gps = get_gps('../data/%s/gps'%data)\n",
    "m2 = np.load('../data/%s/M2.npy'%data)"
   ]
  },
  {
   "cell_type": "code",
   "execution_count": 42,
   "metadata": {},
   "outputs": [
    {
     "data": {
      "text/plain": [
       "(23768, 23768)"
      ]
     },
     "execution_count": 42,
     "metadata": {},
     "output_type": "execute_result"
    }
   ],
   "source": [
    "m2.shape"
   ]
  },
  {
   "cell_type": "code",
   "execution_count": 43,
   "metadata": {},
   "outputs": [
    {
     "data": {
      "text/plain": [
       "array([0.        , 0.006     , 0.02080865, 0.0256125 , 0.03023243,\n",
       "       0.02830194, 0.02968164, 0.10960383, 0.12234786, 0.06280127])"
      ]
     },
     "execution_count": 43,
     "metadata": {},
     "output_type": "execute_result"
    }
   ],
   "source": [
    "m2[0][0:10]"
   ]
  },
  {
   "cell_type": "code",
   "execution_count": 10,
   "metadata": {},
   "outputs": [],
   "source": [
    "import numpy as np\n",
    "start_data = np.load('../data/geolife/start.npy')"
   ]
  },
  {
   "cell_type": "code",
   "execution_count": 11,
   "metadata": {},
   "outputs": [
    {
     "data": {
      "text/plain": [
       "1.0"
      ]
     },
     "execution_count": 11,
     "metadata": {},
     "output_type": "execute_result"
    }
   ],
   "source": [
    "np.sum(start_data)"
   ]
  },
  {
   "cell_type": "code",
   "execution_count": 29,
   "metadata": {},
   "outputs": [
    {
     "data": {
      "text/plain": [
       "tensor([5])"
      ]
     },
     "execution_count": 29,
     "metadata": {},
     "output_type": "execute_result"
    }
   ],
   "source": [
    "import torch\n",
    "torch.multinomial(torch.Tensor(start_data[:10]), 1) "
   ]
  },
  {
   "cell_type": "markdown",
   "metadata": {},
   "source": [
    "## traffic data"
   ]
  },
  {
   "cell_type": "code",
   "execution_count": 9,
   "metadata": {},
   "outputs": [
    {
     "name": "stderr",
     "output_type": "stream",
     "text": [
      "/home/xjm/anaconda3/envs/movesim/lib/python3.6/site-packages/numpy/lib/arraysetops.py:580: FutureWarning: elementwise comparison failed; returning scalar instead, but in the future will perform elementwise comparison\n",
      "  mask |= (ar1 == a)\n"
     ]
    },
    {
     "name": "stdout",
     "output_type": "stream",
     "text": [
      "Index(['vehicle_id', 'speed', 'timestamp', 'lon', 'lat', 'hash_x', 'pid',\n",
      "       'eid', 'dist', 'lon1', 'lat1', 'lon2', 'lat2', 'hash_y', 'hash1',\n",
      "       'hash2'],\n",
      "      dtype='object')\n"
     ]
    },
    {
     "name": "stderr",
     "output_type": "stream",
     "text": [
      "/home/xjm/anaconda3/envs/movesim/lib/python3.6/site-packages/ipykernel_launcher.py:7: SettingWithCopyWarning: \n",
      "A value is trying to be set on a copy of a slice from a DataFrame\n",
      "\n",
      "See the caveats in the documentation: http://pandas.pydata.org/pandas-docs/stable/indexing.html#indexing-view-versus-copy\n",
      "  import sys\n"
     ]
    },
    {
     "name": "stdout",
     "output_type": "stream",
     "text": [
      "   vehicle_id  speed  timestamp    eid\n",
      "0       81044      0          0  78910\n",
      "1       81044      0          1  78910\n",
      "2       81044      0          2  78910\n",
      "3       81044      0          3  78910\n",
      "4       81044      0          4  78910\n"
     ]
    }
   ],
   "source": [
    "import pandas as pd\n",
    "df = pd.read_csv(\"../data/geolife/final.csv\", index_col=0)\n",
    "main_df = df\n",
    "print(df.columns)\n",
    "edge_cols = ['eid', 'lon1', 'lat1', 'lon2', 'lat2']\n",
    "edge_df = df[edge_cols]\n",
    "edge_df.drop_duplicates(inplace=True)\n",
    "edge_df.reset_index(inplace=True)\n",
    "edge_df.to_csv('../data/traffic/edges.csv')\n",
    "select_cols = ['vehicle_id', 'speed', 'timestamp', 'eid']\n",
    "df = df[select_cols]\n",
    "print(df.head())"
   ]
  },
  {
   "cell_type": "code",
   "execution_count": 11,
   "metadata": {},
   "outputs": [
    {
     "data": {
      "text/plain": [
       "46165"
      ]
     },
     "execution_count": 11,
     "metadata": {},
     "output_type": "execute_result"
    }
   ],
   "source": [
    "len(df['eid'].unique()) # 边的数量"
   ]
  },
  {
   "cell_type": "code",
   "execution_count": 20,
   "metadata": {},
   "outputs": [],
   "source": [
    "def roll_mean(x:pd.DataFrame):\n",
    "    x['speed'] = x['speed'].rolling(window=3, center=True).mean()\n",
    "    x['speed'] = x['speed'].fillna(0)\n",
    "    return x"
   ]
  },
  {
   "cell_type": "code",
   "execution_count": 21,
   "metadata": {},
   "outputs": [],
   "source": [
    "roll_df = df.groupby('vehicle_id').apply(roll_mean)"
   ]
  },
  {
   "cell_type": "code",
   "execution_count": 43,
   "metadata": {},
   "outputs": [
    {
     "data": {
      "text/html": [
       "<div>\n",
       "<style>\n",
       "    .dataframe thead tr:only-child th {\n",
       "        text-align: right;\n",
       "    }\n",
       "\n",
       "    .dataframe thead th {\n",
       "        text-align: left;\n",
       "    }\n",
       "\n",
       "    .dataframe tbody tr th {\n",
       "        vertical-align: top;\n",
       "    }\n",
       "</style>\n",
       "<table border=\"1\" class=\"dataframe\">\n",
       "  <thead>\n",
       "    <tr style=\"text-align: right;\">\n",
       "      <th></th>\n",
       "      <th>vehicle_id</th>\n",
       "      <th>speed</th>\n",
       "      <th>timestamp</th>\n",
       "      <th>eid</th>\n",
       "    </tr>\n",
       "  </thead>\n",
       "  <tbody>\n",
       "    <tr>\n",
       "      <th>0</th>\n",
       "      <td>81044</td>\n",
       "      <td>NaN</td>\n",
       "      <td>0</td>\n",
       "      <td>78910</td>\n",
       "    </tr>\n",
       "    <tr>\n",
       "      <th>1</th>\n",
       "      <td>81044</td>\n",
       "      <td>0.0</td>\n",
       "      <td>1</td>\n",
       "      <td>78910</td>\n",
       "    </tr>\n",
       "    <tr>\n",
       "      <th>2</th>\n",
       "      <td>81044</td>\n",
       "      <td>0.0</td>\n",
       "      <td>2</td>\n",
       "      <td>78910</td>\n",
       "    </tr>\n",
       "    <tr>\n",
       "      <th>3</th>\n",
       "      <td>81044</td>\n",
       "      <td>0.0</td>\n",
       "      <td>3</td>\n",
       "      <td>78910</td>\n",
       "    </tr>\n",
       "    <tr>\n",
       "      <th>4</th>\n",
       "      <td>81044</td>\n",
       "      <td>0.0</td>\n",
       "      <td>4</td>\n",
       "      <td>78910</td>\n",
       "    </tr>\n",
       "  </tbody>\n",
       "</table>\n",
       "</div>"
      ],
      "text/plain": [
       "   vehicle_id  speed  timestamp    eid\n",
       "0       81044    NaN          0  78910\n",
       "1       81044    0.0          1  78910\n",
       "2       81044    0.0          2  78910\n",
       "3       81044    0.0          3  78910\n",
       "4       81044    0.0          4  78910"
      ]
     },
     "execution_count": 43,
     "metadata": {},
     "output_type": "execute_result"
    }
   ],
   "source": [
    "roll_df.head()"
   ]
  },
  {
   "cell_type": "code",
   "execution_count": 58,
   "metadata": {},
   "outputs": [],
   "source": [
    "grouped = roll_df.groupby('vehicle_id')"
   ]
  },
  {
   "cell_type": "code",
   "execution_count": 33,
   "metadata": {},
   "outputs": [],
   "source": [
    "import pandas as pd\n",
    "import numpy as np\n",
    "import json\n",
    "import tqdm\n",
    "def gen_traj(x:pd.DataFrame, seq_len=48, interval_len=4, alpha=0.4):\n",
    "    \"\"\"从速度不为0的点开始生成\n",
    "\n",
    "    Args:\n",
    "        x (pd.DataFrame): _description_\n",
    "        seq_len (int, optional): 序列长度. Defaults to 48.\n",
    "        interval_len (int, optional): 生成序列的间隔长度. Defaults to 4.\n",
    "        alpha (float, optional): 满足不为0的数量. Defaults to 0.4.\n",
    "    \"\"\" \n",
    "    temp_df = x[x['speed']!=0]\n",
    "    #print(len(temp_df))\n",
    "    if len(temp_df) == 0:\n",
    "        return None\n",
    "    start_pos = list(temp_df['timestamp'])[0]  \n",
    "    ans = []\n",
    "    for i in range(start_pos, len(x)-seq_len, interval_len):\n",
    "        seq = x.iloc[i: i+seq_len]\n",
    "        if (len(seq[seq['speed']!=0]))/seq_len > alpha:\n",
    "            ans.append(list(seq['eid']).copy())\n",
    "    if len(ans) == 0:\n",
    "        return None\n",
    "    return np.array(ans)\n",
    "\n",
    "      \n",
    "def preprocess(file):\n",
    "    df = pd.read_csv(file, index_col=0)\n",
    "    select_cols = ['vehicle_id', 'speed', 'timestamp', 'eid']\n",
    "    df = df[select_cols]\n",
    "    #df = df[df['speed']!=0]\n",
    "    print(\"eid count: \", len(df['eid'].unique()))\n",
    "    print(\"total count: \", len(df['eid']))\n",
    "    # exclude long-stop point\n",
    "    # mean roll for traj\n",
    "    def roll_mean(x:pd.DataFrame):\n",
    "        x['speed'] = x['speed'].rolling(window=3, center=True).mean()\n",
    "        x['speed'] = x['speed'].fillna(0)\n",
    "        return x\n",
    "    roll_df = df.groupby('vehicle_id').apply(roll_mean)\n",
    "    # generate trajectory of each vehicle\n",
    "    grouped = roll_df.groupby('vehicle_id')\n",
    "    vehicle2traj = dict()\n",
    "    for key, group in tqdm.tqdm(grouped):\n",
    "        traj = gen_traj(group)\n",
    "        if traj is not None:\n",
    "            vehicle2traj[key] = traj\n",
    "        else:\n",
    "            pass\n",
    "    # save data\n",
    "    veh2ind = {}\n",
    "    trajs = []\n",
    "    start_ind = 0\n",
    "    for key in vehicle2traj.keys():\n",
    "        veh2ind[str(key)] = {'start_ind':start_ind, 'len':len(vehicle2traj[key])}\n",
    "        start_ind = start_ind + len(vehicle2traj[key])\n",
    "        trajs.append(vehicle2traj[key])\n",
    "    trajs = np.vstack(trajs)\n",
    "    np.save('../data/trajs.npy', trajs)\n",
    "    with open('../data/veh2ind', 'w') as f:\n",
    "        json.dump(veh2ind, f)\n",
    "    print(\"successfully preprocess data\")\n",
    "    "
   ]
  },
  {
   "cell_type": "code",
   "execution_count": 34,
   "metadata": {},
   "outputs": [
    {
     "name": "stderr",
     "output_type": "stream",
     "text": [
      "/home/xjm/anaconda3/envs/movesim/lib/python3.6/site-packages/numpy/lib/arraysetops.py:580: FutureWarning: elementwise comparison failed; returning scalar instead, but in the future will perform elementwise comparison\n",
      "  mask |= (ar1 == a)\n"
     ]
    },
    {
     "name": "stdout",
     "output_type": "stream",
     "text": [
      "eid count:  46165\n",
      "total count:  6215040\n"
     ]
    },
    {
     "name": "stderr",
     "output_type": "stream",
     "text": [
      "\n",
      "100%|██████████| 4316/4316 [11:34<00:00,  6.63it/s]\n"
     ]
    },
    {
     "name": "stdout",
     "output_type": "stream",
     "text": [
      "successfully preprocess data\n"
     ]
    }
   ],
   "source": [
    "preprocess(\"../data/geolife/final.csv\")"
   ]
  },
  {
   "cell_type": "markdown",
   "metadata": {},
   "source": [
    "## load data"
   ]
  },
  {
   "cell_type": "code",
   "execution_count": 4,
   "metadata": {},
   "outputs": [],
   "source": [
    "def read_file(data_file):\n",
    "    with open(data_file, 'r') as f:\n",
    "        lines = f.readlines()\n",
    "    lis = []\n",
    "    for line in lines:\n",
    "        l = line.strip().split(' ')\n",
    "        l = [int(s) for s in l]\n",
    "        lis.append(l)\n",
    "    return lis\n",
    "data = read_file(r'../data/geolife/real.data')\n",
    "fake_data = read_file(r'../data/geolife/dispre.data')"
   ]
  },
  {
   "cell_type": "code",
   "execution_count": 12,
   "metadata": {},
   "outputs": [],
   "source": [
    "from traffic import gen_eid_dict\n",
    "gen_eid_dict()"
   ]
  },
  {
   "cell_type": "code",
   "execution_count": 2,
   "metadata": {},
   "outputs": [
    {
     "data": {
      "text/plain": [
       "46165"
      ]
     },
     "execution_count": 2,
     "metadata": {},
     "output_type": "execute_result"
    }
   ],
   "source": [
    "import json\n",
    "with open('../data/traffic/eid2id.json', 'r') as f:\n",
    "    eid2id = json.load(f) \n",
    "len(eid2id)"
   ]
  },
  {
   "cell_type": "code",
   "execution_count": 3,
   "metadata": {},
   "outputs": [],
   "source": [
    "import numpy as np\n",
    "m = np.zeros(46165, dtype=np.int32)\n",
    "np.save('M2.npy', m)"
   ]
  },
  {
   "cell_type": "code",
   "execution_count": 53,
   "metadata": {},
   "outputs": [],
   "source": [
    "import pandas as pd\n",
    "edge_df = pd.read_csv('../data/traffic/edges.csv', index_col=0)"
   ]
  },
  {
   "cell_type": "code",
   "execution_count": 58,
   "metadata": {},
   "outputs": [
    {
     "data": {
      "text/plain": [
       "Int64Index([6499, 6499, 6499, 6499], dtype='int64')"
      ]
     },
     "execution_count": 58,
     "metadata": {},
     "output_type": "execute_result"
    }
   ],
   "source": [
    "edge_df.index[np.where(np.isnan(edge_df))[0]]"
   ]
  },
  {
   "cell_type": "code",
   "execution_count": 60,
   "metadata": {},
   "outputs": [
    {
     "data": {
      "text/plain": [
       "index    54063.0\n",
       "eid         -1.0\n",
       "lon1         NaN\n",
       "lat1         NaN\n",
       "lon2         NaN\n",
       "lat2         NaN\n",
       "Name: 6499, dtype: float64"
      ]
     },
     "execution_count": 60,
     "metadata": {},
     "output_type": "execute_result"
    }
   ],
   "source": [
    "edge_df.iloc[6499]"
   ]
  },
  {
   "cell_type": "code",
   "execution_count": 45,
   "metadata": {},
   "outputs": [
    {
     "name": "stdout",
     "output_type": "stream",
     "text": [
      "(46165, 2) (46165, 2)\n"
     ]
    }
   ],
   "source": [
    "m1 = edge_df[['lon1', 'lat1']].values\n",
    "m2 = edge_df[['lon2', 'lat2']].values\n",
    "print(m1.shape, m2.shape)"
   ]
  },
  {
   "cell_type": "code",
   "execution_count": 12,
   "metadata": {},
   "outputs": [],
   "source": [
    "m2 = np.load(\"../data/traffic/M2.npy\")"
   ]
  },
  {
   "cell_type": "code",
   "execution_count": 13,
   "metadata": {},
   "outputs": [
    {
     "data": {
      "text/plain": [
       "1.2271162733629495"
      ]
     },
     "execution_count": 13,
     "metadata": {},
     "output_type": "execute_result"
    }
   ],
   "source": [
    "np.max(m2)"
   ]
  },
  {
   "cell_type": "code",
   "execution_count": 48,
   "metadata": {},
   "outputs": [
    {
     "name": "stdout",
     "output_type": "stream",
     "text": [
      "nan\n"
     ]
    }
   ],
   "source": [
    "import torch.nn as nn \n",
    "import torch \n",
    "import numpy as np\n",
    "import torch.nn.functional as F\n",
    "mat = np.load(\"mat2.npy\")\n",
    "#mat = mat/mat.sum(axis=0)\n",
    "print(np.max(mat))\n",
    "device = torch.device(\"cuda:\"+\"2\")\n",
    "mat = torch.Tensor(mat)\n",
    "mat = F.normalize(mat, dim=0)\n",
    "# mat = torch.randn((32, 46165))\n",
    "l1 = nn.Linear(46165, 64*2)\n",
    "x = l1(mat) # 输出nan\n"
   ]
  },
  {
   "cell_type": "code",
   "execution_count": 16,
   "metadata": {},
   "outputs": [],
   "source": [
    "w = l1.weight\n",
    "b = l1.bias"
   ]
  },
  {
   "cell_type": "code",
   "execution_count": 21,
   "metadata": {},
   "outputs": [
    {
     "data": {
      "text/plain": [
       "(torch.Size([128, 46165]), torch.Size([128]), torch.Size([32, 46165]))"
      ]
     },
     "execution_count": 21,
     "metadata": {},
     "output_type": "execute_result"
    }
   ],
   "source": [
    "w.shape, b.shape, mat.shape"
   ]
  },
  {
   "cell_type": "code",
   "execution_count": 9,
   "metadata": {},
   "outputs": [
    {
     "name": "stdout",
     "output_type": "stream",
     "text": [
      "[[1 2]\n",
      " [3 4]]\n"
     ]
    },
    {
     "data": {
      "text/plain": [
       "array([[2, 3],\n",
       "       [4, 1]])"
      ]
     },
     "execution_count": 9,
     "metadata": {},
     "output_type": "execute_result"
    }
   ],
   "source": [
    "import numpy as np \n",
    "s = np.array([[1, 2], [3, 4]])\n",
    "# s = s.reshape(-1)\n",
    "print(s)\n",
    "def f(x):\n",
    "    dic = {1:2, 2:3, 3:4, 4:1}\n",
    "    return dic[x]\n",
    "applyall = np.vectorize(f)\n",
    "applyall(s)\n"
   ]
  },
  {
   "cell_type": "code",
   "execution_count": 1,
   "metadata": {},
   "outputs": [],
   "source": [
    "from traffic import gen_node_gps, gen_val_data"
   ]
  },
  {
   "cell_type": "code",
   "execution_count": 2,
   "metadata": {},
   "outputs": [],
   "source": [
    "gen_val_data()"
   ]
  },
  {
   "cell_type": "code",
   "execution_count": 1,
   "metadata": {},
   "outputs": [],
   "source": [
    "import numpy as np\n",
    "x = np.load('x.npy')"
   ]
  },
  {
   "cell_type": "code",
   "execution_count": 3,
   "metadata": {},
   "outputs": [
    {
     "data": {
      "text/plain": [
       "array([[-10.810335 , -10.605946 , -10.846008 , ..., -10.645202 ,\n",
       "        -10.852803 , -10.656425 ],\n",
       "       [-10.8186455, -10.611062 , -10.843485 , ..., -10.6459875,\n",
       "        -10.860435 , -10.656467 ],\n",
       "       [-10.798337 , -10.606144 , -10.838633 , ..., -10.645353 ,\n",
       "        -10.851723 , -10.658152 ],\n",
       "       ...,\n",
       "       [-10.80941  , -10.604166 , -10.847086 , ..., -10.635123 ,\n",
       "        -10.853417 , -10.6645155],\n",
       "       [-10.80995  , -10.607412 , -10.842242 , ..., -10.637983 ,\n",
       "        -10.852778 , -10.660442 ],\n",
       "       [-10.797813 , -10.608531 , -10.830216 , ..., -10.63449  ,\n",
       "        -10.864302 , -10.653595 ]], dtype=float32)"
      ]
     },
     "execution_count": 3,
     "metadata": {},
     "output_type": "execute_result"
    }
   ],
   "source": [
    "x"
   ]
  },
  {
   "cell_type": "code",
   "execution_count": 5,
   "metadata": {},
   "outputs": [
    {
     "data": {
      "text/plain": [
       "(32, 46165)"
      ]
     },
     "execution_count": 5,
     "metadata": {},
     "output_type": "execute_result"
    }
   ],
   "source": [
    "x.shape"
   ]
  }
 ],
 "metadata": {
  "kernelspec": {
   "display_name": "Python 3.9.15 ('Movesim')",
   "language": "python",
   "name": "python3"
  },
  "language_info": {
   "codemirror_mode": {
    "name": "ipython",
    "version": 3
   },
   "file_extension": ".py",
   "mimetype": "text/x-python",
   "name": "python",
   "nbconvert_exporter": "python",
   "pygments_lexer": "ipython3",
   "version": "3.9.15"
  },
  "orig_nbformat": 4,
  "vscode": {
   "interpreter": {
    "hash": "17cbb9ea9ba5fdeab2389b1e88b636b14c6e4d9bf695f3b0024a11cbe9f04dd0"
   }
  }
 },
 "nbformat": 4,
 "nbformat_minor": 2
}
